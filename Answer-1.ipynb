{
 "cells": [
  {
   "cell_type": "code",
   "execution_count": 1,
   "id": "549557e6",
   "metadata": {},
   "outputs": [],
   "source": [
    "# My analysis and approach\n",
    "# 1. Read in all the files into a single dataframe\n",
    "# 2. Use Panda logic construct to identify the rows which satisifies the condition\n",
    "# 3. Use group by method and determine the count by weather station (i.e., filename)\n",
    "# 4. Add the files which are missing from the above result \n",
    "#       [The program should create one line of output for each of the weather data files]\n",
    "# 5. write to CSV file with tab separated in ascending order of the filename"
   ]
  },
  {
   "cell_type": "code",
   "execution_count": 2,
   "id": "0a67db27",
   "metadata": {},
   "outputs": [],
   "source": [
    "# Import necessary packages\n",
    "import pandas as pd\n",
    "import numpy as np\n",
    "from os import listdir\n",
    "from os.path import isfile, join"
   ]
  },
  {
   "cell_type": "code",
   "execution_count": 3,
   "id": "fec792d7",
   "metadata": {},
   "outputs": [
    {
     "name": "stdout",
     "output_type": "stream",
     "text": [
      "167\n"
     ]
    }
   ],
   "source": [
    "# Parametrizing src and destination path\n",
    "src_path = '/Users/arunachalamev/Downloads/DataSciTest/wx_data/'\n",
    "des_path = '/Users/arunachalamev/Downloads/DataSciTest/answers/'\n",
    "\n",
    "# Read the file names in the src path \n",
    "wx_data_files = [filename for filename in listdir(src_path) if isfile(join(src_path, filename))]\n",
    "print (len(wx_data_files))"
   ]
  },
  {
   "cell_type": "code",
   "execution_count": 4,
   "id": "996872aa",
   "metadata": {},
   "outputs": [
    {
     "name": "stdout",
     "output_type": "stream",
     "text": [
      "Shape of the dataframe : (1729957, 5)\n"
     ]
    }
   ],
   "source": [
    "# load all the files into the data frame. NO HEADER given in the input files\n",
    "dfs = list()\n",
    "for i, file in enumerate(wx_data_files):\n",
    "    data = pd.read_csv(src_path+file, sep='\\t', header=None)\n",
    "    data['file_name'] = file\n",
    "    dfs.append(data)\n",
    "\n",
    "full_wx_data = pd.concat(dfs,axis=0)\n",
    "\n",
    "print (\"Shape of the dataframe :\",full_wx_data.shape)"
   ]
  },
  {
   "cell_type": "code",
   "execution_count": 5,
   "id": "7dac31d5",
   "metadata": {},
   "outputs": [],
   "source": [
    "# rename the columns for readability\n",
    "full_wx_data = full_wx_data.reset_index(drop=True)\n",
    "full_wx_data = full_wx_data.rename(columns={0: \"date\", 1: \"max_temp\", 2:\"min_temp\", 3:\"precipitation\"})\n",
    "#full_wx_data.head(10)\n",
    "#full_wx_data.tail(10)\n",
    "#full_wx_data.isna().sum() #make sure no na/null"
   ]
  },
  {
   "cell_type": "code",
   "execution_count": 6,
   "id": "c9ee7cc0",
   "metadata": {},
   "outputs": [
    {
     "name": "stdout",
     "output_type": "stream",
     "text": [
      "Number of records which meets the criteria: (22691, 5)\n"
     ]
    }
   ],
   "source": [
    "# Question 1 requriments\n",
    "MISSING_VALUE = -9999\n",
    "\n",
    "pos_records = full_wx_data[(full_wx_data['max_temp'] != MISSING_VALUE) & \n",
    "                        (full_wx_data['min_temp'] != MISSING_VALUE) & \n",
    "                        (full_wx_data['precipitation'] == MISSING_VALUE)]\n",
    "\n",
    "print (\"Number of records which meets the criteria:\", pos_records.shape)"
   ]
  },
  {
   "cell_type": "code",
   "execution_count": 7,
   "id": "4605c431",
   "metadata": {},
   "outputs": [],
   "source": [
    "pos_records_grp_by_cnts = pos_records.groupby(by='file_name').size()\n",
    "pos_records_grp_by_cnts_dict = pos_records_grp_by_cnts.to_dict()"
   ]
  },
  {
   "cell_type": "code",
   "execution_count": 8,
   "id": "f16a5732",
   "metadata": {},
   "outputs": [],
   "source": [
    "# logic to find missing weatherstation(filename) without any successful records\n",
    "# Ask: \"The program should create one line of output for each of the weather data files\"\n",
    "# Expectation is to have 167 lines in the output file - \n",
    "# Ascending requirement : Achieved using sorted filenames in the iterable list\n",
    "\n",
    "temp = []\n",
    "for file in sorted(wx_data_files):\n",
    "    if file in pos_records_grp_by_cnts_dict:\n",
    "        temp.append([file,pos_records_grp_by_cnts_dict[file]])\n",
    "    else:\n",
    "        temp.append([file,0])"
   ]
  },
  {
   "cell_type": "code",
   "execution_count": 9,
   "id": "d46ad5f0",
   "metadata": {},
   "outputs": [],
   "source": [
    "answer1 = pd.DataFrame(temp)"
   ]
  },
  {
   "cell_type": "code",
   "execution_count": 10,
   "id": "3e8b1516",
   "metadata": {},
   "outputs": [
    {
     "data": {
      "text/html": [
       "<div>\n",
       "<style scoped>\n",
       "    .dataframe tbody tr th:only-of-type {\n",
       "        vertical-align: middle;\n",
       "    }\n",
       "\n",
       "    .dataframe tbody tr th {\n",
       "        vertical-align: top;\n",
       "    }\n",
       "\n",
       "    .dataframe thead th {\n",
       "        text-align: right;\n",
       "    }\n",
       "</style>\n",
       "<table border=\"1\" class=\"dataframe\">\n",
       "  <thead>\n",
       "    <tr style=\"text-align: right;\">\n",
       "      <th></th>\n",
       "      <th>0</th>\n",
       "      <th>1</th>\n",
       "    </tr>\n",
       "  </thead>\n",
       "  <tbody>\n",
       "    <tr>\n",
       "      <th>0</th>\n",
       "      <td>USC00110072.txt</td>\n",
       "      <td>121</td>\n",
       "    </tr>\n",
       "    <tr>\n",
       "      <th>1</th>\n",
       "      <td>USC00110187.txt</td>\n",
       "      <td>6</td>\n",
       "    </tr>\n",
       "    <tr>\n",
       "      <th>2</th>\n",
       "      <td>USC00110338.txt</td>\n",
       "      <td>22</td>\n",
       "    </tr>\n",
       "    <tr>\n",
       "      <th>3</th>\n",
       "      <td>USC00111280.txt</td>\n",
       "      <td>92</td>\n",
       "    </tr>\n",
       "    <tr>\n",
       "      <th>4</th>\n",
       "      <td>USC00111436.txt</td>\n",
       "      <td>125</td>\n",
       "    </tr>\n",
       "    <tr>\n",
       "      <th>...</th>\n",
       "      <td>...</td>\n",
       "      <td>...</td>\n",
       "    </tr>\n",
       "    <tr>\n",
       "      <th>162</th>\n",
       "      <td>USC00338552.txt</td>\n",
       "      <td>8</td>\n",
       "    </tr>\n",
       "    <tr>\n",
       "      <th>163</th>\n",
       "      <td>USC00338769.txt</td>\n",
       "      <td>7</td>\n",
       "    </tr>\n",
       "    <tr>\n",
       "      <th>164</th>\n",
       "      <td>USC00338822.txt</td>\n",
       "      <td>9</td>\n",
       "    </tr>\n",
       "    <tr>\n",
       "      <th>165</th>\n",
       "      <td>USC00338830.txt</td>\n",
       "      <td>201</td>\n",
       "    </tr>\n",
       "    <tr>\n",
       "      <th>166</th>\n",
       "      <td>USC00339312.txt</td>\n",
       "      <td>0</td>\n",
       "    </tr>\n",
       "  </tbody>\n",
       "</table>\n",
       "<p>167 rows × 2 columns</p>\n",
       "</div>"
      ],
      "text/plain": [
       "                   0    1\n",
       "0    USC00110072.txt  121\n",
       "1    USC00110187.txt    6\n",
       "2    USC00110338.txt   22\n",
       "3    USC00111280.txt   92\n",
       "4    USC00111436.txt  125\n",
       "..               ...  ...\n",
       "162  USC00338552.txt    8\n",
       "163  USC00338769.txt    7\n",
       "164  USC00338822.txt    9\n",
       "165  USC00338830.txt  201\n",
       "166  USC00339312.txt    0\n",
       "\n",
       "[167 rows x 2 columns]"
      ]
     },
     "execution_count": 10,
     "metadata": {},
     "output_type": "execute_result"
    }
   ],
   "source": [
    "answer1"
   ]
  },
  {
   "cell_type": "code",
   "execution_count": 11,
   "id": "54aa087d",
   "metadata": {},
   "outputs": [],
   "source": [
    "answer1.to_csv(des_path+'MisssingPrcpData.out',sep='\\t', header=None, index= False)"
   ]
  },
  {
   "cell_type": "code",
   "execution_count": null,
   "id": "676485d7",
   "metadata": {},
   "outputs": [],
   "source": []
  }
 ],
 "metadata": {
  "kernelspec": {
   "display_name": "Python 3 (ipykernel)",
   "language": "python",
   "name": "python3"
  },
  "language_info": {
   "codemirror_mode": {
    "name": "ipython",
    "version": 3
   },
   "file_extension": ".py",
   "mimetype": "text/x-python",
   "name": "python",
   "nbconvert_exporter": "python",
   "pygments_lexer": "ipython3",
   "version": "3.9.13"
  }
 },
 "nbformat": 4,
 "nbformat_minor": 5
}
